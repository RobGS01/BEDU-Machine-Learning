{
  "nbformat": 4,
  "nbformat_minor": 0,
  "metadata": {
    "colab": {
      "provenance": [],
      "authorship_tag": "ABX9TyPl0WMPjnXuvS6sr+joDzaa",
      "include_colab_link": true
    },
    "kernelspec": {
      "name": "python3",
      "display_name": "Python 3"
    },
    "language_info": {
      "name": "python"
    }
  },
  "cells": [
    {
      "cell_type": "markdown",
      "metadata": {
        "id": "view-in-github",
        "colab_type": "text"
      },
      "source": [
        "<a href=\"https://colab.research.google.com/github/RobGS01/BEDU-Machine-Learning/blob/main/Reto_1.ipynb\" target=\"_parent\"><img src=\"https://colab.research.google.com/assets/colab-badge.svg\" alt=\"Open In Colab\"/></a>"
      ]
    },
    {
      "cell_type": "code",
      "execution_count": 2,
      "metadata": {
        "id": "aVkwS56JgixN"
      },
      "outputs": [],
      "source": [
        "import numpy as np\n",
        "from sklearn.model_selection import train_test_split\n",
        "\n",
        "np.random.seed(0)  # Fijar una semilla para reproducibilidad\n",
        "0\n",
        "# Generar 1000 ejemplos de datos simulados\n",
        "precio = np.random.uniform(10, 100, 1000)  # Precio del producto (entre 10 y 100)\n",
        "publicidad = np.random.uniform(1, 50, 1000)  # Cantidad de publicidad (entre 1 y 50)\n",
        "ventas = 20 * precio + 10 * publicidad + np.random.normal(0, 30, 1000)  # Ventas (con ruido)\n",
        "\n",
        "# Crear un DataFrame de pandas para los datos\n",
        "import pandas as pd\n",
        "\n",
        "data = pd.DataFrame({'Precio': precio, 'Publicidad': publicidad, 'Ventas': ventas})"
      ]
    },
    {
      "cell_type": "code",
      "source": [
        "# Definir X (características) e y (variable objetivo)\n",
        "X = data[['Precio', 'Publicidad']]  # DataFrame con las características precio y publicidad\n",
        "y = data['Ventas']  # Serie con la variable objetivo ventas"
      ],
      "metadata": {
        "id": "YMy4QxlbhFXK"
      },
      "execution_count": 3,
      "outputs": []
    },
    {
      "cell_type": "code",
      "source": [
        "length_of_arrayX = len(X)\n",
        "length_of_arrayy = len(y)\n",
        "print(\"The length of the array is:\", length_of_arrayX)\n",
        "print(\"The length of the array is:\", length_of_arrayy)"
      ],
      "metadata": {
        "colab": {
          "base_uri": "https://localhost:8080/"
        },
        "id": "ENkQ2fbLkvYt",
        "outputId": "aa020eaa-5aad-4f91-fcfa-2723b48e7839"
      },
      "execution_count": 7,
      "outputs": [
        {
          "output_type": "stream",
          "name": "stdout",
          "text": [
            "The length of the array is: 1000\n",
            "The length of the array is: 1000\n"
          ]
        }
      ]
    },
    {
      "cell_type": "code",
      "source": [
        "# Dividir los datos en conjuntos de entrenamiento, validación y prueba\n",
        "# Primero, dividimos en conjunto de entrenamiento y el resto (que luego se dividirá en validación y prueba)\n",
        "X_train, X_temp, y_train, y_temp = train_test_split(X, y, test_size=0.3, random_state=42)"
      ],
      "metadata": {
        "id": "imsCepqOgnRE"
      },
      "execution_count": 4,
      "outputs": []
    },
    {
      "cell_type": "code",
      "source": [
        "# Luego, dividimos el conjunto temporal (30%) en conjuntos de validación y prueba (50% cada uno)\n",
        "X_val, X_test, y_val, y_test = train_test_split(X_temp, y_temp, test_size=0.5, random_state=42)"
      ],
      "metadata": {
        "id": "Jebxr9kzgv_s"
      },
      "execution_count": 5,
      "outputs": []
    },
    {
      "cell_type": "code",
      "source": [
        "# Ahora tienes los siguientes conjuntos de datos:\n",
        "# - X_train: Características de entrenamiento\n",
        "# - y_train: Etiquetas de entrenamiento\n",
        "# - X_val: Características de validación\n",
        "# - y_val: Etiquetas de validación\n",
        "# - X_test: Características de prueba\n",
        "# - y_test: Etiquetas de prueba\n",
        "\n",
        "# Puedes imprimir las longitudes de los conjuntos de datos para verificar\n",
        "print(\"Tamaño del conjunto de entrenamiento:\", len(X_train))\n",
        "print(\"Tamaño del conjunto de validación:\", len(X_val))\n",
        "print(\"Tamaño del conjunto de prueba:\", len(X_test))"
      ],
      "metadata": {
        "colab": {
          "base_uri": "https://localhost:8080/"
        },
        "id": "dQSxgbLZgz8L",
        "outputId": "1a6bc5de-10ad-4dec-d999-32a41b62b8f0"
      },
      "execution_count": 6,
      "outputs": [
        {
          "output_type": "stream",
          "name": "stdout",
          "text": [
            "Tamaño del conjunto de entrenamiento: 700\n",
            "Tamaño del conjunto de validación: 150\n",
            "Tamaño del conjunto de prueba: 150\n"
          ]
        }
      ]
    }
  ]
}